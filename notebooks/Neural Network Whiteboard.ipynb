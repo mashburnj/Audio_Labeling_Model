{
 "cells": [
  {
   "cell_type": "code",
   "execution_count": 5,
   "id": "bf826221",
   "metadata": {},
   "outputs": [],
   "source": [
    "import tensorflow as tf\n",
    "import pandas as pd"
   ]
  },
  {
   "cell_type": "markdown",
   "id": "2faea786",
   "metadata": {},
   "source": [
    "ANN Prototype"
   ]
  },
  {
   "cell_type": "code",
   "execution_count": 13,
   "id": "6e605a62",
   "metadata": {},
   "outputs": [
    {
     "name": "stdout",
     "output_type": "stream",
     "text": [
      "Model: \"sequential_2\"\n",
      "_________________________________________________________________\n",
      "Layer (type)                 Output Shape              Param #   \n",
      "=================================================================\n",
      "normalization_2 (Normalizati (None, 128)               0         \n",
      "_________________________________________________________________\n",
      "dense_10 (Dense)             (None, 86)                11094     \n",
      "_________________________________________________________________\n",
      "dense_11 (Dense)             (None, 60)                5220      \n",
      "_________________________________________________________________\n",
      "dense_12 (Dense)             (None, 40)                2440      \n",
      "_________________________________________________________________\n",
      "dense_13 (Dense)             (None, 20)                820       \n",
      "_________________________________________________________________\n",
      "dense_14 (Dense)             (None, 1)                 21        \n",
      "=================================================================\n",
      "Total params: 19,595\n",
      "Trainable params: 19,595\n",
      "Non-trainable params: 0\n",
      "_________________________________________________________________\n"
     ]
    }
   ],
   "source": [
    "from tensorflow.keras.models import Sequential\n",
    "from tensorflow.keras import layers\n",
    "\n",
    "# Need to recalculate variance for the normalization layer.\n",
    "\n",
    "model = Sequential([\n",
    "    layers.Input(shape = (128,)),\n",
    "    layers.Normalization(mean = 127, variance = 1000),\n",
    "    layers.Dense(86, activation='relu'),\n",
    "    layers.Dense(60, activation='relu'),\n",
    "    layers.Dense(40, activation='relu'),\n",
    "    layers.Dense(20, activation='relu'),\n",
    "    layers.Dense(1, activation='relu')\n",
    "])\n",
    "\n",
    "model.summary()"
   ]
  },
  {
   "cell_type": "markdown",
   "id": "62bc1ef3",
   "metadata": {},
   "source": [
    "Test training"
   ]
  },
  {
   "cell_type": "code",
   "execution_count": 15,
   "id": "79c6af47",
   "metadata": {},
   "outputs": [
    {
     "name": "stdout",
     "output_type": "stream",
     "text": [
      "Epoch 1/10\n",
      "3211/3211 [==============================] - 3s 791us/step - loss: 2.1306 - binary_crossentropy: 2.1306\n",
      "Epoch 2/10\n",
      "3211/3211 [==============================] - 2s 723us/step - loss: 2.1306 - binary_crossentropy: 2.1306\n",
      "Epoch 3/10\n",
      "3211/3211 [==============================] - 2s 714us/step - loss: 2.1306 - binary_crossentropy: 2.1306\n",
      "Epoch 4/10\n",
      "3211/3211 [==============================] - 2s 713us/step - loss: 2.1306 - binary_crossentropy: 2.1306\n",
      "Epoch 5/10\n",
      "3211/3211 [==============================] - 2s 718us/step - loss: 2.1306 - binary_crossentropy: 2.1306\n",
      "Epoch 6/10\n",
      "3211/3211 [==============================] - 2s 716us/step - loss: 2.1306 - binary_crossentropy: 2.1306\n",
      "Epoch 7/10\n",
      "3211/3211 [==============================] - 2s 720us/step - loss: 2.1306 - binary_crossentropy: 2.1306\n",
      "Epoch 8/10\n",
      "3211/3211 [==============================] - 2s 774us/step - loss: 2.1306 - binary_crossentropy: 2.1306\n",
      "Epoch 9/10\n",
      "3211/3211 [==============================] - 2s 750us/step - loss: 2.1306 - binary_crossentropy: 2.1306\n",
      "Epoch 10/10\n",
      "3211/3211 [==============================] - 2s 730us/step - loss: 2.1306 - binary_crossentropy: 2.1306\n",
      "Saved model to disk\n"
     ]
    }
   ],
   "source": [
    "save_to_disk = True # Set to FALSE if we don't want this to overwrite the current model.\n",
    "\n",
    "TrainFeatures = pd.read_csv('../data/trainFeaturesFiltered.csv', header = 0, index_col = 0).drop(['video_id','time_stamp'], axis = 'columns')\n",
    "TrainTargets = pd.read_csv('../data/trainTargetsFiltered.csv', header = 0, index_col = 0).drop(['video_id','time_stamp'], axis = 'columns')\n",
    "\n",
    "EvalFeatures = pd.read_csv('../data/evalFeaturesFiltered.csv', header = 0, index_col = 0).drop(['video_id','time_stamp'], axis = 'columns')\n",
    "EvalTargets = pd.read_csv('../data/evalTargetsFiltered.csv', header = 0, index_col = 0).drop(['video_id','time_stamp'], axis = 'columns')\n",
    "\n",
    "# Here, we choose the loss function to minimize, the optimizer algorithm, and additional loss metrics to display on screen.\n",
    "model.compile(loss = 'binary_crossentropy', optimizer = 'adam', metrics = ['binary_crossentropy'])\n",
    "\n",
    "# Time to train! Epochs = # times the training algorithm goes through the whole set.\n",
    "# Batch size = # elements the algorithm \"sees\" at a time between adjusting model parameters.\n",
    "model.fit(TrainFeatures,TrainTargets,epochs = 10, batch_size = 8)\n",
    "\n",
    "if save_to_disk:\n",
    "    # Saving model to JSON and weights to H5.\n",
    "    model_json = model.to_json()\n",
    "    with open(\"../models/model.json\", \"w\") as json_file:\n",
    "        json_file.write(model_json)\n",
    "    model.save_weights(\"../models/model.h5\")\n",
    "    print(\"Saved model to disk\")\n",
    "\n",
    "# Measure accuracy on the evaluation set.\n",
    "loss  = model.evaluate(EvalFeatures, EvalTargets)\n",
    "print('Loss on Validation Set: ', loss)"
   ]
  },
  {
   "cell_type": "markdown",
   "id": "5d9871e7",
   "metadata": {},
   "source": [
    "RNN Prototype"
   ]
  },
  {
   "cell_type": "code",
   "execution_count": null,
   "id": "bccc8b96",
   "metadata": {},
   "outputs": [],
   "source": []
  }
 ],
 "metadata": {
  "kernelspec": {
   "display_name": "Python 3",
   "language": "python",
   "name": "python3"
  },
  "language_info": {
   "codemirror_mode": {
    "name": "ipython",
    "version": 3
   },
   "file_extension": ".py",
   "mimetype": "text/x-python",
   "name": "python",
   "nbconvert_exporter": "python",
   "pygments_lexer": "ipython3",
   "version": "3.6.13"
  }
 },
 "nbformat": 4,
 "nbformat_minor": 5
}
