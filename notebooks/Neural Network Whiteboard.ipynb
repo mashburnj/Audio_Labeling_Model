{
 "cells": [
  {
   "cell_type": "code",
   "execution_count": 1,
   "id": "bf826221",
   "metadata": {},
   "outputs": [],
   "source": [
    "import tensorflow as tf\n",
    "import pandas as pd"
   ]
  },
  {
   "cell_type": "markdown",
   "id": "2faea786",
   "metadata": {},
   "source": [
    "ANN Prototype"
   ]
  },
  {
   "cell_type": "code",
   "execution_count": 2,
   "id": "6e605a62",
   "metadata": {},
   "outputs": [
    {
     "name": "stdout",
     "output_type": "stream",
     "text": [
      "Model: \"sequential\"\n",
      "_________________________________________________________________\n",
      " Layer (type)                Output Shape              Param #   \n",
      "=================================================================\n",
      " normalization (Normalizatio  (None, 128)              0         \n",
      " n)                                                              \n",
      "                                                                 \n",
      " dense (Dense)               (None, 100)               12900     \n",
      "                                                                 \n",
      " dense_1 (Dense)             (None, 75)                7575      \n",
      "                                                                 \n",
      " dense_2 (Dense)             (None, 50)                3800      \n",
      "                                                                 \n",
      " dense_3 (Dense)             (None, 25)                1275      \n",
      "                                                                 \n",
      " dense_4 (Dense)             (None, 1)                 26        \n",
      "                                                                 \n",
      "=================================================================\n",
      "Total params: 25,576\n",
      "Trainable params: 25,576\n",
      "Non-trainable params: 0\n",
      "_________________________________________________________________\n"
     ]
    }
   ],
   "source": [
    "from tensorflow.keras.models import Sequential\n",
    "from tensorflow.keras import layers\n",
    "\n",
    "model = Sequential([\n",
    "    layers.Input(shape = (128,)),\n",
    "    layers.Normalization(mean = 127, variance = 77.4),\n",
    "    layers.Dense(100, activation='relu'), #86\n",
    "    layers.Dense(75, activation='relu'), #64\n",
    "    layers.Dense(50, activation='relu'), #42\n",
    "    layers.Dense(25, activation='relu'), #21\n",
    "    layers.Dense(1, activation='relu')\n",
    "])\n",
    "\n",
    "model.summary()"
   ]
  },
  {
   "cell_type": "markdown",
   "id": "62bc1ef3",
   "metadata": {},
   "source": [
    "Test training"
   ]
  },
  {
   "cell_type": "code",
   "execution_count": 3,
   "id": "79c6af47",
   "metadata": {},
   "outputs": [
    {
     "name": "stdout",
     "output_type": "stream",
     "text": [
      "Epoch 1/10\n",
      "7993/7993 [==============================] - 114s 14ms/step - loss: 2.7796 - binary_crossentropy: 2.7796 - accuracy: 0.8197\n",
      "Epoch 2/10\n",
      "7993/7993 [==============================] - 108s 13ms/step - loss: 2.7635 - binary_crossentropy: 2.7635 - accuracy: 0.8208\n",
      "Epoch 3/10\n",
      "7993/7993 [==============================] - 94s 12ms/step - loss: 2.7635 - binary_crossentropy: 2.7635 - accuracy: 0.8208\n",
      "Epoch 4/10\n",
      "7993/7993 [==============================] - 96s 12ms/step - loss: 2.7635 - binary_crossentropy: 2.7635 - accuracy: 0.8208\n",
      "Epoch 5/10\n",
      "7993/7993 [==============================] - 107s 13ms/step - loss: 2.7635 - binary_crossentropy: 2.7635 - accuracy: 0.8208\n",
      "Epoch 6/10\n",
      "7993/7993 [==============================] - 91s 11ms/step - loss: 2.7635 - binary_crossentropy: 2.7635 - accuracy: 0.8208\n",
      "Epoch 7/10\n",
      "7993/7993 [==============================] - 90s 11ms/step - loss: 2.7635 - binary_crossentropy: 2.7635 - accuracy: 0.8208\n",
      "Epoch 8/10\n",
      "7993/7993 [==============================] - 97s 12ms/step - loss: 2.7635 - binary_crossentropy: 2.7635 - accuracy: 0.8208\n",
      "Epoch 9/10\n",
      "7993/7993 [==============================] - 90s 11ms/step - loss: 2.7635 - binary_crossentropy: 2.7635 - accuracy: 0.8208\n",
      "Epoch 10/10\n",
      "7993/7993 [==============================] - 93s 12ms/step - loss: 2.7635 - binary_crossentropy: 2.7635 - accuracy: 0.8208\n",
      "Saved model to disk\n",
      "400/400 [==============================] - 4s 9ms/step - loss: 3.0925 - binary_crossentropy: 3.0925 - accuracy: 0.7995\n",
      "Loss on Validation Set:  [3.092467784881592, 3.092467784881592, 0.7995151877403259]\n"
     ]
    }
   ],
   "source": [
    "save_to_disk = True # Set to FALSE if we don't want this to overwrite the current model.\n",
    "\n",
    "TrainFeatures = pd.read_csv('../data/trainFeaturesNewSplit.csv', header = 0, index_col = 0).drop(['video_id','time_stamp'], axis = 'columns')\n",
    "TrainTargets = pd.read_csv('../data/trainTargetsNewSplit.csv', header = 0, index_col = 0).drop(['video_id','time_stamp'], axis = 'columns')\n",
    "\n",
    "EvalFeatures = pd.read_csv('../data/evalFeaturesNewSplit.csv', header = 0, index_col = 0).drop(['video_id','time_stamp'], axis = 'columns')\n",
    "EvalTargets = pd.read_csv('../data/evalTargetsNewSplit.csv', header = 0, index_col = 0).drop(['video_id','time_stamp'], axis = 'columns')\n",
    "\n",
    "# Here, we choose the loss function to minimize, the optimizer algorithm, and additional loss metrics to display on screen.\n",
    "model.compile(loss = 'binary_crossentropy', optimizer = 'adam', metrics = ['binary_crossentropy', 'accuracy'])\n",
    "\n",
    "# Time to train! Epochs = # times the training algorithm goes through the whole set.\n",
    "# Batch size = # elements the algorithm \"sees\" at a time between adjusting model parameters.\n",
    "model.fit(TrainFeatures,TrainTargets,epochs = 10, batch_size = 8)\n",
    "\n",
    "if save_to_disk:\n",
    "    # Saving model to JSON and weights to H5.\n",
    "    model_json = model.to_json()\n",
    "    with open(\"../models/model.json\", \"w\") as json_file:\n",
    "        json_file.write(model_json)\n",
    "    model.save_weights(\"../models/model.h5\")\n",
    "    print(\"Saved model to disk\")\n",
    "\n",
    "# Measure accuracy on the evaluation set.\n",
    "loss  = model.evaluate(EvalFeatures, EvalTargets)\n",
    "print('Loss on Validation Set: ', loss)"
   ]
  },
  {
   "cell_type": "markdown",
   "id": "5d9871e7",
   "metadata": {},
   "source": [
    "RNN Prototype"
   ]
  },
  {
   "cell_type": "code",
   "execution_count": null,
   "id": "bccc8b96",
   "metadata": {},
   "outputs": [],
   "source": []
  }
 ],
 "metadata": {
  "kernelspec": {
   "display_name": "Python 3 (ipykernel)",
   "language": "python",
   "name": "python3"
  },
  "language_info": {
   "codemirror_mode": {
    "name": "ipython",
    "version": 3
   },
   "file_extension": ".py",
   "mimetype": "text/x-python",
   "name": "python",
   "nbconvert_exporter": "python",
   "pygments_lexer": "ipython3",
   "version": "3.10.9"
  }
 },
 "nbformat": 4,
 "nbformat_minor": 5
}
