{
 "cells": [
  {
   "cell_type": "code",
   "execution_count": 1,
   "id": "bf826221",
   "metadata": {},
   "outputs": [],
   "source": [
    "import tensorflow as tf\n",
    "import numpy as np\n",
    "import pandas as pd"
   ]
  },
  {
   "cell_type": "markdown",
   "id": "2faea786",
   "metadata": {},
   "source": [
    "ANN Prototype"
   ]
  },
  {
   "cell_type": "code",
   "execution_count": 2,
   "id": "6e605a62",
   "metadata": {},
   "outputs": [
    {
     "name": "stdout",
     "output_type": "stream",
     "text": [
      "Model: \"sequential\"\n",
      "_________________________________________________________________\n",
      "Layer (type)                 Output Shape              Param #   \n",
      "=================================================================\n",
      "normalization (Normalization (None, 128)               0         \n",
      "_________________________________________________________________\n",
      "dense (Dense)                (None, 100)               12900     \n",
      "_________________________________________________________________\n",
      "dense_1 (Dense)              (None, 75)                7575      \n",
      "_________________________________________________________________\n",
      "dense_2 (Dense)              (None, 50)                3800      \n",
      "_________________________________________________________________\n",
      "dense_3 (Dense)              (None, 25)                1275      \n",
      "_________________________________________________________________\n",
      "dense_4 (Dense)              (None, 1)                 26        \n",
      "=================================================================\n",
      "Total params: 25,576\n",
      "Trainable params: 25,576\n",
      "Non-trainable params: 0\n",
      "_________________________________________________________________\n"
     ]
    }
   ],
   "source": [
    "from tensorflow.keras.models import Sequential\n",
    "from tensorflow.keras import layers\n",
    "\n",
    "model = Sequential([\n",
    "    layers.Input(shape = (128,)),\n",
    "    layers.Normalization(mean = 127, variance = 77.4),\n",
    "    layers.Dense(100, activation='tanh'), #86\n",
    "    layers.Dense(75, activation='tanh'), #64\n",
    "    layers.Dense(50, activation='tanh'), #42\n",
    "    layers.Dense(25, activation='tanh'), #21\n",
    "    layers.Dense(1, activation='relu')\n",
    "])\n",
    "\n",
    "model.summary()"
   ]
  },
  {
   "cell_type": "markdown",
   "id": "62bc1ef3",
   "metadata": {},
   "source": [
    "Test training"
   ]
  },
  {
   "cell_type": "code",
   "execution_count": 7,
   "id": "79c6af47",
   "metadata": {},
   "outputs": [
    {
     "name": "stdout",
     "output_type": "stream",
     "text": [
      "Epoch 1/10\n",
      "7993/7993 [==============================] - 7s 846us/step - loss: 2.4299 - accuracy: 0.7663\n",
      "Epoch 2/10\n",
      "7993/7993 [==============================] - 7s 833us/step - loss: 1.0978 - accuracy: 0.7851\n",
      "Epoch 3/10\n",
      "7993/7993 [==============================] - 7s 862us/step - loss: 0.7784 - accuracy: 0.8092\n",
      "Epoch 4/10\n",
      "7993/7993 [==============================] - 7s 838us/step - loss: 0.6996 - accuracy: 0.8190\n",
      "Epoch 5/10\n",
      "7993/7993 [==============================] - 6s 801us/step - loss: 0.6961 - accuracy: 0.8192\n",
      "Epoch 6/10\n",
      "7993/7993 [==============================] - 6s 811us/step - loss: 0.6505 - accuracy: 0.8256\n",
      "Epoch 7/10\n",
      "7993/7993 [==============================] - 7s 827us/step - loss: 0.6502 - accuracy: 0.8329\n",
      "Epoch 8/10\n",
      "7993/7993 [==============================] - 6s 811us/step - loss: 0.6460 - accuracy: 0.8333\n",
      "Epoch 9/10\n",
      "7993/7993 [==============================] - 7s 829us/step - loss: 0.6249 - accuracy: 0.8421\n",
      "Epoch 10/10\n",
      "7993/7993 [==============================] - 7s 827us/step - loss: 0.6417 - accuracy: 0.8429\n",
      "Saved model to disk\n",
      "400/400 [==============================] - 0s 620us/step - loss: 0.7708 - accuracy: 0.8033\n",
      "Loss on Validation Set:  [0.7707582116127014, 0.8032684326171875]\n",
      "Confusion matrix:\n",
      "Recall: 0.33736348\n"
     ]
    },
    {
     "data": {
      "text/plain": [
       "<tf.Tensor: shape=(2, 2), dtype=int32, numpy=\n",
       "array([[9408,  817],\n",
       "       [1699,  865]])>"
      ]
     },
     "execution_count": 7,
     "metadata": {},
     "output_type": "execute_result"
    }
   ],
   "source": [
    "save_to_disk = True # Set to FALSE if we don't want this to overwrite the current model.\n",
    "\n",
    "TrainFeatures = pd.read_csv('../data/trainFeaturesNewSplit.csv', header = 0, index_col = 0).drop(['video_id','time_stamp'], axis = 'columns')\n",
    "TrainTargets = pd.read_csv('../data/trainTargetsNewSplit.csv', header = 0, index_col = 0).drop(['video_id','time_stamp'], axis = 'columns')\n",
    "TrainTargets.iloc[:,0] = TrainTargets.iloc[:,0].astype(float)\n",
    "\n",
    "EvalFeatures = pd.read_csv('../data/evalFeaturesNewSplit.csv', header = 0, index_col = 0).drop(['video_id','time_stamp'], axis = 'columns')\n",
    "EvalTargets = pd.read_csv('../data/evalTargetsNewSplit.csv', header = 0, index_col = 0).drop(['video_id','time_stamp'], axis = 'columns')\n",
    "EvalTargets.iloc[:,0] = EvalTargets.iloc[:,0].astype(float)\n",
    "\n",
    "# Since our dataset is imbalanced, we need a weighted binary cross entropy loss function.\n",
    "def weighted_bce(y_true, y_pred):\n",
    "    weights = (y_true * 3.) + 1.\n",
    "    bce = tf.keras.losses.binary_crossentropy(y_true, y_pred)\n",
    "    weighted_bce = tf.math.reduce_mean(bce * weights)\n",
    "    return weighted_bce\n",
    "\n",
    "# Here, we choose the loss function to minimize, the optimizer algorithm, and additional loss metrics to display on screen.\n",
    "model.compile(loss = weighted_bce, optimizer = 'adam', metrics = ['accuracy'])\n",
    "\n",
    "# Time to train! Epochs = # times the training algorithm goes through the whole set.\n",
    "# Batch size = # elements the algorithm \"sees\" at a time between adjusting model parameters.\n",
    "model.fit(TrainFeatures,TrainTargets,epochs = 10, batch_size = 8)\n",
    "\n",
    "if save_to_disk:\n",
    "    # Saving model to JSON and weights to H5.\n",
    "    model_json = model.to_json()\n",
    "    with open(\"../models/model.json\", \"w\") as json_file:\n",
    "        json_file.write(model_json)\n",
    "    model.save_weights(\"../models/model.h5\")\n",
    "    print(\"Saved model to disk\")\n",
    "\n",
    "# Measure accuracy on the evaluation set.\n",
    "loss  = model.evaluate(EvalFeatures, EvalTargets)\n",
    "print('Loss on Validation Set: ', loss)\n",
    "print('Confusion matrix:')\n",
    "predictions = np.round(model.predict(EvalFeatures))\n",
    "true_labels = EvalTargets.iloc[:,0]\n",
    "\n",
    "m = tf.keras.metrics.Recall()\n",
    "m.update_state(true_labels, predictions)\n",
    "print('Recall: ' + str(m.result().numpy()))\n",
    "\n",
    "conf_matrix = tf.math.confusion_matrix(true_labels, predictions)\n",
    "conf_matrix"
   ]
  },
  {
   "cell_type": "code",
   "execution_count": null,
   "id": "bccc8b96",
   "metadata": {},
   "outputs": [],
   "source": []
  },
  {
   "cell_type": "code",
   "execution_count": null,
   "id": "ca5753b6",
   "metadata": {},
   "outputs": [],
   "source": []
  }
 ],
 "metadata": {
  "kernelspec": {
   "display_name": "Python 3",
   "language": "python",
   "name": "python3"
  },
  "language_info": {
   "codemirror_mode": {
    "name": "ipython",
    "version": 3
   },
   "file_extension": ".py",
   "mimetype": "text/x-python",
   "name": "python",
   "nbconvert_exporter": "python",
   "pygments_lexer": "ipython3",
   "version": "3.6.13"
  }
 },
 "nbformat": 4,
 "nbformat_minor": 5
}
