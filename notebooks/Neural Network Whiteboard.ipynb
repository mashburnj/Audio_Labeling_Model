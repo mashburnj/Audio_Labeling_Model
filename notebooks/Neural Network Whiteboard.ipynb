{
 "cells": [
  {
   "cell_type": "code",
   "execution_count": 1,
   "id": "bf826221",
   "metadata": {},
   "outputs": [],
   "source": [
    "import tensorflow as tf"
   ]
  },
  {
   "cell_type": "markdown",
   "id": "2faea786",
   "metadata": {},
   "source": [
    "CNN Prototype"
   ]
  },
  {
   "cell_type": "code",
   "execution_count": 2,
   "id": "6e605a62",
   "metadata": {},
   "outputs": [
    {
     "name": "stdout",
     "output_type": "stream",
     "text": [
      "Model: \"sequential\"\n",
      "_________________________________________________________________\n",
      " Layer (type)                Output Shape              Param #   \n",
      "=================================================================\n",
      " reshape (Reshape)           (None, 129, 629, 1)       0         \n",
      "                                                                 \n",
      " resizing (Resizing)         (None, 129, 129, 1)       0         \n",
      "                                                                 \n",
      " normalization (Normalizatio  (None, 129, 129, 1)      0         \n",
      " n)                                                              \n",
      "                                                                 \n",
      " conv2d (Conv2D)             (None, 127, 127, 4)       40        \n",
      "                                                                 \n",
      " max_pooling2d (MaxPooling2D  (None, 63, 63, 4)        0         \n",
      " )                                                               \n",
      "                                                                 \n",
      " conv2d_1 (Conv2D)           (None, 61, 61, 4)         148       \n",
      "                                                                 \n",
      " flatten (Flatten)           (None, 14884)             0         \n",
      "                                                                 \n",
      " dense (Dense)               (None, 200)               2977000   \n",
      "                                                                 \n",
      " dense_1 (Dense)             (None, 160)               32160     \n",
      "                                                                 \n",
      " dense_2 (Dense)             (None, 120)               19320     \n",
      "                                                                 \n",
      " dense_3 (Dense)             (None, 80)                9680      \n",
      "                                                                 \n",
      " dense_4 (Dense)             (None, 37)                2997      \n",
      "                                                                 \n",
      "=================================================================\n",
      "Total params: 3,041,345\n",
      "Trainable params: 3,041,345\n",
      "Non-trainable params: 0\n",
      "_________________________________________________________________\n"
     ]
    }
   ],
   "source": [
    "from tensorflow.keras.models import Sequential\n",
    "from tensorflow.keras import layers\n",
    "\n",
    "# This was copy-pasted from my old personal project.\n",
    "# Some of the layers are not applicable (normalization),\n",
    "# and some layers (input, reshape, resizing, and dense) need to be resized.\n",
    "\n",
    "model = Sequential([\n",
    "    layers.Input(shape = (81141,)),\n",
    "    layers.Reshape((129, 629, 1)),\n",
    "    layers.Resizing(height = 129, width = 129),\n",
    "    layers.Normalization(mean = 126, variance = 165000),\n",
    "    layers.Conv2D(4, 3, activation='relu'),\n",
    "    layers.MaxPooling2D(),\n",
    "    layers.Conv2D(4, 3, activation='relu'),\n",
    "    layers.Flatten(),\n",
    "    layers.Dense(200, activation='relu'),\n",
    "    layers.Dense(160, activation='relu'),\n",
    "    layers.Dense(120, activation='relu'),\n",
    "    layers.Dense(80, activation='relu'),\n",
    "    layers.Dense(37, activation='relu')\n",
    "])\n",
    "\n",
    "model.summary()"
   ]
  },
  {
   "cell_type": "markdown",
   "id": "62bc1ef3",
   "metadata": {},
   "source": [
    "(this cell is just me experimenting with loading the data and training on it)"
   ]
  },
  {
   "cell_type": "code",
   "execution_count": 3,
   "id": "79c6af47",
   "metadata": {},
   "outputs": [
    {
     "ename": "NameError",
     "evalue": "name 'TrainFeatures' is not defined",
     "output_type": "error",
     "traceback": [
      "\u001b[1;31m---------------------------------------------------------------------------\u001b[0m",
      "\u001b[1;31mNameError\u001b[0m                                 Traceback (most recent call last)",
      "Cell \u001b[1;32mIn[3], line 7\u001b[0m\n\u001b[0;32m      3\u001b[0m \u001b[38;5;66;03m# TrainFeatures\u001b[39;00m\n\u001b[0;32m      4\u001b[0m \u001b[38;5;66;03m# TrainTargets\u001b[39;00m\n\u001b[0;32m      6\u001b[0m model\u001b[38;5;241m.\u001b[39mcompile(loss \u001b[38;5;241m=\u001b[39m \u001b[38;5;124m'\u001b[39m\u001b[38;5;124mmean_squared_error\u001b[39m\u001b[38;5;124m'\u001b[39m, optimizer \u001b[38;5;241m=\u001b[39m \u001b[38;5;124m'\u001b[39m\u001b[38;5;124madam\u001b[39m\u001b[38;5;124m'\u001b[39m, metrics \u001b[38;5;241m=\u001b[39m [\u001b[38;5;124m'\u001b[39m\u001b[38;5;124mmean_squared_error\u001b[39m\u001b[38;5;124m'\u001b[39m, \u001b[38;5;124m'\u001b[39m\u001b[38;5;124mmean_absolute_error\u001b[39m\u001b[38;5;124m'\u001b[39m])\n\u001b[1;32m----> 7\u001b[0m model\u001b[38;5;241m.\u001b[39mfit(\u001b[43mTrainFeatures\u001b[49m,TrainTargets,epochs \u001b[38;5;241m=\u001b[39m \u001b[38;5;241m500\u001b[39m, batch_size \u001b[38;5;241m=\u001b[39m \u001b[38;5;241m4\u001b[39m)\n\u001b[0;32m      8\u001b[0m \u001b[38;5;28;01mif\u001b[39;00m save_to_disk:\n\u001b[0;32m      9\u001b[0m     \u001b[38;5;66;03m# Saving model to JSON and weights to H5.\u001b[39;00m\n\u001b[0;32m     10\u001b[0m     os\u001b[38;5;241m.\u001b[39mchdir(\u001b[38;5;124m'\u001b[39m\u001b[38;5;124m..\u001b[39m\u001b[38;5;124m'\u001b[39m)\n",
      "\u001b[1;31mNameError\u001b[0m: name 'TrainFeatures' is not defined"
     ]
    }
   ],
   "source": [
    "save_to_disk = False\n",
    "\n",
    "# TrainFeatures\n",
    "# TrainTargets\n",
    "\n",
    "model.compile(loss = 'mean_squared_error', optimizer = 'adam', metrics = ['mean_squared_error', 'mean_absolute_error'])\n",
    "model.fit(TrainFeatures,TrainTargets,epochs = 500, batch_size = 4)\n",
    "if save_to_disk:\n",
    "    # Saving model to JSON and weights to H5.\n",
    "    os.chdir('..')\n",
    "    os.chdir('./models/')\n",
    "    model_json = model.to_json()\n",
    "    with open(\"model.json\", \"w\") as json_file:\n",
    "        json_file.write(model_json)\n",
    "    model.save_weights(\"model.h5\")\n",
    "    print(\"Saved model to disk\")\n",
    "loss  = model.evaluate(ValFeatures, ValTargets)\n",
    "print('Loss on Validation Set: ', loss)"
   ]
  },
  {
   "cell_type": "markdown",
   "id": "5d9871e7",
   "metadata": {},
   "source": [
    "RNN Prototype"
   ]
  },
  {
   "cell_type": "code",
   "execution_count": null,
   "id": "bccc8b96",
   "metadata": {},
   "outputs": [],
   "source": []
  }
 ],
 "metadata": {
  "kernelspec": {
   "display_name": "Python 3 (ipykernel)",
   "language": "python",
   "name": "python3"
  },
  "language_info": {
   "codemirror_mode": {
    "name": "ipython",
    "version": 3
   },
   "file_extension": ".py",
   "mimetype": "text/x-python",
   "name": "python",
   "nbconvert_exporter": "python",
   "pygments_lexer": "ipython3",
   "version": "3.9.16"
  }
 },
 "nbformat": 4,
 "nbformat_minor": 5
}
