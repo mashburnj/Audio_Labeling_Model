{
 "cells": [
  {
   "cell_type": "code",
   "execution_count": 1,
   "id": "bf826221",
   "metadata": {},
   "outputs": [],
   "source": [
    "import tensorflow as tf\n",
    "import numpy as np\n",
    "import pandas as pd"
   ]
  },
  {
   "cell_type": "markdown",
   "id": "2faea786",
   "metadata": {},
   "source": [
    "ANN Prototype"
   ]
  },
  {
   "cell_type": "code",
   "execution_count": 2,
   "id": "6e605a62",
   "metadata": {},
   "outputs": [
    {
     "name": "stdout",
     "output_type": "stream",
     "text": [
      "Model: \"sequential\"\n",
      "_________________________________________________________________\n",
      "Layer (type)                 Output Shape              Param #   \n",
      "=================================================================\n",
      "normalization (Normalization (None, 128)               0         \n",
      "_________________________________________________________________\n",
      "dense (Dense)                (None, 100)               12900     \n",
      "_________________________________________________________________\n",
      "dense_1 (Dense)              (None, 80)                8080      \n",
      "_________________________________________________________________\n",
      "dense_2 (Dense)              (None, 60)                4860      \n",
      "_________________________________________________________________\n",
      "dense_3 (Dense)              (None, 40)                2440      \n",
      "_________________________________________________________________\n",
      "dense_4 (Dense)              (None, 20)                820       \n",
      "_________________________________________________________________\n",
      "dense_5 (Dense)              (None, 1)                 21        \n",
      "=================================================================\n",
      "Total params: 29,121\n",
      "Trainable params: 29,121\n",
      "Non-trainable params: 0\n",
      "_________________________________________________________________\n"
     ]
    }
   ],
   "source": [
    "from tensorflow.keras.models import Sequential\n",
    "from tensorflow.keras import layers\n",
    "\n",
    "model = Sequential([\n",
    "    layers.Input(shape = (128,)),\n",
    "    layers.Normalization(mean = 127, variance = 77.4),\n",
    "    layers.Dense(100, activation='tanh'), #86\n",
    "    layers.Dense(80, activation='tanh'), #64\n",
    "    layers.Dense(60, activation='tanh'), #42\n",
    "    layers.Dense(40, activation='tanh'), #21\n",
    "    layers.Dense(20, activation='relu'),\n",
    "    layers.Dense(1, activation='relu')\n",
    "])\n",
    "\n",
    "model.summary()"
   ]
  },
  {
   "cell_type": "markdown",
   "id": "62bc1ef3",
   "metadata": {},
   "source": [
    "Test training"
   ]
  },
  {
   "cell_type": "code",
   "execution_count": 9,
   "id": "79c6af47",
   "metadata": {},
   "outputs": [
    {
     "name": "stdout",
     "output_type": "stream",
     "text": [
      "Epoch 1/12\n",
      "7993/7993 [==============================] - 9s 1ms/step - loss: 0.7559 - accuracy: 0.8522\n",
      "Epoch 2/12\n",
      "7993/7993 [==============================] - 8s 1ms/step - loss: 0.7013 - accuracy: 0.8547\n",
      "Epoch 3/12\n",
      "7993/7993 [==============================] - 9s 1ms/step - loss: 0.7558 - accuracy: 0.8537\n",
      "Epoch 4/12\n",
      "7993/7993 [==============================] - 7s 922us/step - loss: 0.6775 - accuracy: 0.8582\n",
      "Epoch 5/12\n",
      "7993/7993 [==============================] - 8s 999us/step - loss: 0.6751 - accuracy: 0.8542\n",
      "Epoch 6/12\n",
      "7993/7993 [==============================] - 9s 1ms/step - loss: 0.6510 - accuracy: 0.8567\n",
      "Epoch 7/12\n",
      "7993/7993 [==============================] - 7s 930us/step - loss: 0.6514 - accuracy: 0.8546\n",
      "Epoch 8/12\n",
      "7993/7993 [==============================] - 8s 944us/step - loss: 0.7320 - accuracy: 0.8545\n",
      "Epoch 9/12\n",
      "7993/7993 [==============================] - 8s 942us/step - loss: 0.7193 - accuracy: 0.8561\n",
      "Epoch 10/12\n",
      "7993/7993 [==============================] - 8s 969us/step - loss: 0.6835 - accuracy: 0.8553\n",
      "Epoch 11/12\n",
      "7993/7993 [==============================] - 8s 984us/step - loss: 0.7500 - accuracy: 0.8549\n",
      "Epoch 12/12\n",
      "7993/7993 [==============================] - 8s 967us/step - loss: 0.7361 - accuracy: 0.8553\n",
      "Saved model to disk\n",
      "400/400 [==============================] - 0s 551us/step - loss: 1.8210 - accuracy: 0.7790\n",
      "Loss on Validation Set:  [1.820974349975586, 0.7790288329124451]\n",
      "Confusion matrix:\n",
      "Recall: 0.26638067\n"
     ]
    },
    {
     "data": {
      "text/plain": [
       "<tf.Tensor: shape=(2, 2), dtype=int32, numpy=\n",
       "array([[9280,  945],\n",
       "       [1881,  683]])>"
      ]
     },
     "execution_count": 9,
     "metadata": {},
     "output_type": "execute_result"
    }
   ],
   "source": [
    "save_to_disk = True # Set to FALSE if we don't want this to overwrite the current model.\n",
    "\n",
    "TrainFeatures = pd.read_csv('../data/trainFeaturesNewSplit.csv', header = 0, index_col = 0).drop(['video_id','time_stamp'], axis = 'columns')\n",
    "TrainTargets = pd.read_csv('../data/trainTargetsNewSplit.csv', header = 0, index_col = 0).drop(['video_id','time_stamp'], axis = 'columns')\n",
    "TrainTargets.iloc[:,0] = TrainTargets.iloc[:,0].astype(float)\n",
    "\n",
    "EvalFeatures = pd.read_csv('../data/evalFeaturesNewSplit.csv', header = 0, index_col = 0).drop(['video_id','time_stamp'], axis = 'columns')\n",
    "EvalTargets = pd.read_csv('../data/evalTargetsNewSplit.csv', header = 0, index_col = 0).drop(['video_id','time_stamp'], axis = 'columns')\n",
    "EvalTargets.iloc[:,0] = EvalTargets.iloc[:,0].astype(float)\n",
    "\n",
    "# Since our dataset is imbalanced, we need a weighted binary cross entropy loss function.\n",
    "def weighted_bce(y_true, y_pred):\n",
    "    weights = (y_true * 4) + 1.\n",
    "    bce = tf.keras.losses.binary_crossentropy(y_true, y_pred)\n",
    "    weighted_bce = tf.math.reduce_mean(bce * weights)\n",
    "    return weighted_bce\n",
    "\n",
    "# Here, we choose the loss function to minimize, the optimizer algorithm, and additional loss metrics to display on screen.\n",
    "model.compile(loss = weighted_bce, optimizer = 'adam', metrics = ['accuracy'])\n",
    "\n",
    "# Time to train! Epochs = # times the training algorithm goes through the whole set.\n",
    "# Batch size = # elements the algorithm \"sees\" at a time between adjusting model parameters.\n",
    "model.fit(TrainFeatures,TrainTargets,epochs = 12, batch_size = 8)\n",
    "\n",
    "if save_to_disk:\n",
    "    # Saving model to JSON and weights to H5.\n",
    "    model_json = model.to_json()\n",
    "    with open(\"../models/model.json\", \"w\") as json_file:\n",
    "        json_file.write(model_json)\n",
    "    model.save_weights(\"../models/model.h5\")\n",
    "    print(\"Saved model to disk\")\n",
    "\n",
    "# Measure accuracy on the evaluation set.\n",
    "loss  = model.evaluate(EvalFeatures, EvalTargets)\n",
    "print('Loss on Validation Set: ', loss)\n",
    "print('Confusion matrix:')\n",
    "predictions = np.round(model.predict(EvalFeatures))\n",
    "true_labels = EvalTargets.iloc[:,0]\n",
    "\n",
    "m = tf.keras.metrics.Recall()\n",
    "m.update_state(true_labels, predictions)\n",
    "print('Recall: ' + str(m.result().numpy()))\n",
    "\n",
    "conf_matrix = tf.math.confusion_matrix(true_labels, predictions)\n",
    "conf_matrix"
   ]
  },
  {
   "cell_type": "code",
   "execution_count": null,
   "id": "bccc8b96",
   "metadata": {},
   "outputs": [],
   "source": []
  },
  {
   "cell_type": "code",
   "execution_count": null,
   "id": "4801f03a",
   "metadata": {},
   "outputs": [],
   "source": []
  }
 ],
 "metadata": {
  "kernelspec": {
   "display_name": "Python 3",
   "language": "python",
   "name": "python3"
  },
  "language_info": {
   "codemirror_mode": {
    "name": "ipython",
    "version": 3
   },
   "file_extension": ".py",
   "mimetype": "text/x-python",
   "name": "python",
   "nbconvert_exporter": "python",
   "pygments_lexer": "ipython3",
   "version": "3.6.13"
  }
 },
 "nbformat": 4,
 "nbformat_minor": 5
}
