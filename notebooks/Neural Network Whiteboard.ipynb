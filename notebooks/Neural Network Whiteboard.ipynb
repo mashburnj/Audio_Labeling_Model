{
 "cells": [
  {
   "cell_type": "code",
   "execution_count": 1,
   "id": "bf826221",
   "metadata": {},
   "outputs": [],
   "source": [
    "import tensorflow as tf"
   ]
  },
  {
   "cell_type": "markdown",
   "id": "2faea786",
   "metadata": {},
   "source": [
    "CNN Prototype"
   ]
  },
  {
   "cell_type": "code",
   "execution_count": 2,
   "id": "6e605a62",
   "metadata": {},
   "outputs": [
    {
     "name": "stdout",
     "output_type": "stream",
     "text": [
      "Model: \"sequential\"\n",
      "_________________________________________________________________\n",
      "Layer (type)                 Output Shape              Param #   \n",
      "=================================================================\n",
      "reshape (Reshape)            (None, 129, 629, 1)       0         \n",
      "_________________________________________________________________\n",
      "resizing (Resizing)          (None, 129, 129, 1)       0         \n",
      "_________________________________________________________________\n",
      "normalization (Normalization (None, 129, 129, 1)       0         \n",
      "_________________________________________________________________\n",
      "conv2d (Conv2D)              (None, 127, 127, 4)       40        \n",
      "_________________________________________________________________\n",
      "max_pooling2d (MaxPooling2D) (None, 63, 63, 4)         0         \n",
      "_________________________________________________________________\n",
      "conv2d_1 (Conv2D)            (None, 61, 61, 4)         148       \n",
      "_________________________________________________________________\n",
      "flatten (Flatten)            (None, 14884)             0         \n",
      "_________________________________________________________________\n",
      "dense (Dense)                (None, 200)               2977000   \n",
      "_________________________________________________________________\n",
      "dense_1 (Dense)              (None, 160)               32160     \n",
      "_________________________________________________________________\n",
      "dense_2 (Dense)              (None, 120)               19320     \n",
      "_________________________________________________________________\n",
      "dense_3 (Dense)              (None, 80)                9680      \n",
      "_________________________________________________________________\n",
      "dense_4 (Dense)              (None, 37)                2997      \n",
      "=================================================================\n",
      "Total params: 3,041,345\n",
      "Trainable params: 3,041,345\n",
      "Non-trainable params: 0\n",
      "_________________________________________________________________\n"
     ]
    }
   ],
   "source": [
    "from tensorflow.keras.models import Sequential\n",
    "from tensorflow.keras import layers\n",
    "\n",
    "# This was copy-pasted from my old personal project.\n",
    "# Some of the layers are not applicable (normalization),\n",
    "# and some layers (input, reshape, resizing, and dense) need to be resized.\n",
    "\n",
    "model = Sequential([\n",
    "    layers.Input(shape = (81141,)),\n",
    "    layers.Reshape((129, 629, 1)),\n",
    "    layers.Resizing(height = 129, width = 129),\n",
    "    layers.Normalization(mean = 126, variance = 165000),\n",
    "    layers.Conv2D(4, 3, activation='relu'),\n",
    "    layers.MaxPooling2D(),\n",
    "    layers.Conv2D(4, 3, activation='relu'),\n",
    "    layers.Flatten(),\n",
    "    layers.Dense(200, activation='relu'),\n",
    "    layers.Dense(160, activation='relu'),\n",
    "    layers.Dense(120, activation='relu'),\n",
    "    layers.Dense(80, activation='relu'),\n",
    "    layers.Dense(37, activation='relu')\n",
    "])\n",
    "\n",
    "model.summary()"
   ]
  },
  {
   "cell_type": "markdown",
   "id": "62bc1ef3",
   "metadata": {},
   "source": [
    "(this cell is just me experimenting with loading the data and training on it)"
   ]
  },
  {
   "cell_type": "code",
   "execution_count": null,
   "id": "79c6af47",
   "metadata": {},
   "outputs": [],
   "source": [
    "save_to_disk = False\n",
    "\n",
    "# TrainFeatures\n",
    "# TrainTargets\n",
    "\n",
    "model.compile(loss = 'mean_squared_error', optimizer = 'adam', metrics = ['mean_squared_error', 'mean_absolute_error'])\n",
    "model.fit(TrainFeatures,TrainTargets,epochs = 500, batch_size = 4)\n",
    "if save_to_disk:\n",
    "    # Saving model to JSON and weights to H5.\n",
    "    os.chdir('..')\n",
    "    os.chdir('./models/')\n",
    "    model_json = model.to_json()\n",
    "    with open(\"model.json\", \"w\") as json_file:\n",
    "        json_file.write(model_json)\n",
    "    model.save_weights(\"model.h5\")\n",
    "    print(\"Saved model to disk\")\n",
    "loss  = model.evaluate(ValFeatures, ValTargets)\n",
    "print('Loss on Validation Set: ', loss)"
   ]
  },
  {
   "cell_type": "markdown",
   "id": "5d9871e7",
   "metadata": {},
   "source": [
    "RNN Prototype"
   ]
  },
  {
   "cell_type": "code",
   "execution_count": null,
   "id": "bccc8b96",
   "metadata": {},
   "outputs": [],
   "source": []
  }
 ],
 "metadata": {
  "kernelspec": {
   "display_name": "Python 3",
   "language": "python",
   "name": "python3"
  },
  "language_info": {
   "codemirror_mode": {
    "name": "ipython",
    "version": 3
   },
   "file_extension": ".py",
   "mimetype": "text/x-python",
   "name": "python",
   "nbconvert_exporter": "python",
   "pygments_lexer": "ipython3",
   "version": "3.6.13"
  }
 },
 "nbformat": 4,
 "nbformat_minor": 5
}
