{
 "cells": [
  {
   "cell_type": "code",
   "execution_count": 9,
   "id": "bf826221",
   "metadata": {},
   "outputs": [],
   "source": [
    "import tensorflow as tf\n",
    "import numpy as np\n",
    "import pandas as pd"
   ]
  },
  {
   "cell_type": "markdown",
   "id": "2faea786",
   "metadata": {},
   "source": [
    "ANN Prototype"
   ]
  },
  {
   "cell_type": "code",
   "execution_count": 10,
   "id": "6e605a62",
   "metadata": {},
   "outputs": [
    {
     "name": "stdout",
     "output_type": "stream",
     "text": [
      "Model: \"sequential_2\"\n",
      "_________________________________________________________________\n",
      "Layer (type)                 Output Shape              Param #   \n",
      "=================================================================\n",
      "normalization_2 (Normalizati (None, 128)               0         \n",
      "_________________________________________________________________\n",
      "dense_12 (Dense)             (None, 200)               25800     \n",
      "_________________________________________________________________\n",
      "dense_13 (Dense)             (None, 160)               32160     \n",
      "_________________________________________________________________\n",
      "dense_14 (Dense)             (None, 140)               22540     \n",
      "_________________________________________________________________\n",
      "dense_15 (Dense)             (None, 100)               14100     \n",
      "_________________________________________________________________\n",
      "dense_16 (Dense)             (None, 60)                6060      \n",
      "_________________________________________________________________\n",
      "dense_17 (Dense)             (None, 1)                 61        \n",
      "=================================================================\n",
      "Total params: 100,721\n",
      "Trainable params: 100,721\n",
      "Non-trainable params: 0\n",
      "_________________________________________________________________\n"
     ]
    }
   ],
   "source": [
    "from tensorflow.keras.models import Sequential\n",
    "from tensorflow.keras import layers\n",
    "\n",
    "model = Sequential([\n",
    "    layers.Input(shape = (128,)),\n",
    "    layers.Normalization(mean = 127, variance = 77.4),\n",
    "    layers.Dense(200, activation='tanh'), #86\n",
    "    layers.Dense(160, activation='tanh'), #64\n",
    "    layers.Dense(140, activation='tanh'), #42\n",
    "    layers.Dense(100, activation='tanh'), #21\n",
    "    layers.Dense(60, activation='tanh'),\n",
    "    layers.Dense(1, activation='relu')\n",
    "])\n",
    "\n",
    "model.summary()"
   ]
  },
  {
   "cell_type": "markdown",
   "id": "62bc1ef3",
   "metadata": {},
   "source": [
    "Test training"
   ]
  },
  {
   "cell_type": "code",
   "execution_count": 18,
   "id": "79c6af47",
   "metadata": {},
   "outputs": [
    {
     "name": "stdout",
     "output_type": "stream",
     "text": [
      "Epoch 1/10\n",
      "7993/7993 [==============================] - 9s 1ms/step - loss: 1.4207 - accuracy: 0.8166\n",
      "Epoch 2/10\n",
      "7993/7993 [==============================] - 9s 1ms/step - loss: 1.1086 - accuracy: 0.8306\n",
      "Epoch 3/10\n",
      "7993/7993 [==============================] - 8s 1ms/step - loss: 2.4869 - accuracy: 0.8064\n",
      "Epoch 4/10\n",
      "7993/7993 [==============================] - 8s 1ms/step - loss: 1.3078 - accuracy: 0.8432\n",
      "Epoch 5/10\n",
      "7993/7993 [==============================] - 9s 1ms/step - loss: 1.6235 - accuracy: 0.8293\n",
      "Epoch 6/10\n",
      "7993/7993 [==============================] - 8s 1ms/step - loss: 1.5986 - accuracy: 0.7921\n",
      "Epoch 7/10\n",
      "7993/7993 [==============================] - 8s 1ms/step - loss: 1.5382 - accuracy: 0.8026\n",
      "Epoch 8/10\n",
      "7993/7993 [==============================] - 9s 1ms/step - loss: 1.0193 - accuracy: 0.8438\n",
      "Epoch 9/10\n",
      "7993/7993 [==============================] - 9s 1ms/step - loss: 2.6136 - accuracy: 0.8335\n",
      "Epoch 10/10\n",
      "7993/7993 [==============================] - 10s 1ms/step - loss: 2.4587 - accuracy: 0.8308\n",
      "Saved model to disk\n",
      "400/400 [==============================] - 1s 727us/step - loss: 1.2561 - accuracy: 0.8741\n",
      "Loss on Validation Set:  [1.2561132907867432, 0.8741105794906616]\n",
      "Confusion matrix:\n",
      "Recall: 0.7090484\n",
      "Precision: 0.67785233\n",
      "F1 Score: 0.6930995391920082\n"
     ]
    },
    {
     "data": {
      "text/plain": [
       "<tf.Tensor: shape=(2, 2), dtype=int32, numpy=\n",
       "array([[9361,  864],\n",
       "       [ 746, 1818]])>"
      ]
     },
     "execution_count": 18,
     "metadata": {},
     "output_type": "execute_result"
    }
   ],
   "source": [
    "save_to_disk = True # Set to FALSE if we don't want this to overwrite the current model.\n",
    "\n",
    "TrainFeatures = pd.read_csv('../data/trainFeaturesNewSplit.csv', header = 0, index_col = 0).drop(['video_id','time_stamp'], axis = 'columns')\n",
    "TrainTargets = pd.read_csv('../data/trainTargetsNewSplit.csv', header = 0, index_col = 0).drop(['video_id','time_stamp'], axis = 'columns')\n",
    "TrainTargets.iloc[:,0] = TrainTargets.iloc[:,0].astype(float)\n",
    "\n",
    "EvalFeatures = pd.read_csv('../data/evalFeaturesNewSplit.csv', header = 0, index_col = 0).drop(['video_id','time_stamp'], axis = 'columns')\n",
    "EvalTargets = pd.read_csv('../data/evalTargetsNewSplit.csv', header = 0, index_col = 0).drop(['video_id','time_stamp'], axis = 'columns')\n",
    "EvalTargets.iloc[:,0] = EvalTargets.iloc[:,0].astype(float)\n",
    "\n",
    "# Since our dataset is imbalanced, we need a weighted binary cross entropy loss function.\n",
    "def weighted_bce(y_true, y_pred):\n",
    "    weights = (y_true * 8) + 1.\n",
    "    bce = tf.keras.losses.binary_crossentropy(y_true, y_pred)\n",
    "    weighted_bce = tf.math.reduce_mean(bce * weights)\n",
    "    return weighted_bce\n",
    "\n",
    "# Here, we choose the loss function to minimize, the optimizer algorithm, and additional loss metrics to display on screen.\n",
    "#model.compile(loss = weighted_bce, optimizer = 'adam', metrics = ['accuracy', tf.keras.metrics.AUC(name='auc')])\n",
    "model.compile(loss = weighted_bce, optimizer = 'adam', metrics = ['accuracy'])\n",
    "\n",
    "# To address the imbalance, need to adjust the class weights.\n",
    "#cw = {\n",
    "#    0: 63943 / 52493,\n",
    "#    1: 63943 / 11450\n",
    "#}\n",
    "\n",
    "# Time to train! Epochs = # times the training algorithm goes through the whole set.\n",
    "# Batch size = # elements the algorithm \"sees\" at a time between adjusting model parameters.\n",
    "model.fit(TrainFeatures,TrainTargets, epochs = 10, batch_size = 8)\n",
    "\n",
    "if save_to_disk:\n",
    "    # Saving model to JSON and weights to H5.\n",
    "    model_json = model.to_json()\n",
    "    with open(\"../models/model.json\", \"w\") as json_file:\n",
    "        json_file.write(model_json)\n",
    "    model.save_weights(\"../models/model.h5\")\n",
    "    print(\"Saved model to disk\")\n",
    "\n",
    "# Measure accuracy on the evaluation set.\n",
    "loss  = model.evaluate(EvalFeatures, EvalTargets)\n",
    "print('Loss on Validation Set: ', loss)\n",
    "print('Confusion matrix:')\n",
    "predictions = np.round(model.predict(EvalFeatures))\n",
    "predictions = np.minimum(predictions, np.ones((len(predictions),1))) # Sometimes the result can get rounded to 2.\n",
    "true_labels = EvalTargets.iloc[:,0]\n",
    "\n",
    "r = tf.keras.metrics.Recall()\n",
    "r.update_state(true_labels, predictions)\n",
    "print('Recall: ' + str(r.result().numpy()))\n",
    "\n",
    "p = tf.keras.metrics.Precision()\n",
    "p.update_state(true_labels, predictions)\n",
    "print('Precision: ' + str(p.result().numpy()))\n",
    "\n",
    "f1 = 2* r.result().numpy() * p.result().numpy() / (r.result().numpy() + p.result().numpy())\n",
    "print('F1 Score: ' + str(f1))\n",
    "\n",
    "conf_matrix = tf.math.confusion_matrix(true_labels, predictions)\n",
    "conf_matrix"
   ]
  },
  {
   "cell_type": "code",
   "execution_count": null,
   "id": "1668a31d",
   "metadata": {},
   "outputs": [],
   "source": []
  }
 ],
 "metadata": {
  "kernelspec": {
   "display_name": "Python 3",
   "language": "python",
   "name": "python3"
  },
  "language_info": {
   "codemirror_mode": {
    "name": "ipython",
    "version": 3
   },
   "file_extension": ".py",
   "mimetype": "text/x-python",
   "name": "python",
   "nbconvert_exporter": "python",
   "pygments_lexer": "ipython3",
   "version": "3.6.13"
  }
 },
 "nbformat": 4,
 "nbformat_minor": 5
}
