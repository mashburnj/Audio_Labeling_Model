{
 "cells": [
  {
   "cell_type": "code",
   "execution_count": 1,
   "id": "454637ee",
   "metadata": {},
   "outputs": [],
   "source": [
    "import tensorflow as tf\n",
    "import numpy as np\n",
    "import pandas as pd\n",
    "from tensorflow.keras.models import Sequential, model_from_json\n",
    "from tensorflow.keras import layers\n",
    "from matplotlib import pyplot as plt"
   ]
  },
  {
   "cell_type": "markdown",
   "id": "15b5ae95",
   "metadata": {},
   "source": [
    "Load the TFRecord file for the WAV demonstration sample"
   ]
  },
  {
   "cell_type": "code",
   "execution_count": 2,
   "id": "ad34631f",
   "metadata": {},
   "outputs": [
    {
     "name": "stdout",
     "output_type": "stream",
     "text": [
      "16\n"
     ]
    },
    {
     "data": {
      "text/plain": [
       "array([[102.,  76., 166., ..., 139., 179., 222.],\n",
       "       [ 72.,  81., 155., ...,  49., 136., 192.],\n",
       "       [ 66.,  70., 156., ...,  22., 219., 252.],\n",
       "       ...,\n",
       "       [ 27.,  86., 185., ...,  98., 234., 105.],\n",
       "       [ 26.,  67., 175., ...,  75., 217., 151.],\n",
       "       [ 26.,  78., 168., ...,   0., 255., 102.]])"
      ]
     },
     "execution_count": 2,
     "metadata": {},
     "output_type": "execute_result"
    }
   ],
   "source": [
    "filenames = [\"../data/newtfrecordiguess.tfr\"]\n",
    "raw_dataset = tf.data.TFRecordDataset(filenames)\n",
    "\n",
    "# This is just so np.vstack has another row to stack with.\n",
    "placeholder_array = np.array([str(k) for k in range(0,128)])\n",
    "\n",
    "# Extract the 128-dimensional vectors from the TFRecord file.\n",
    "for raw_record in raw_dataset:\n",
    "    sample = tf.train.SequenceExample()\n",
    "    sample.ParseFromString(raw_record.numpy())\n",
    "    for i in range(0,len(sample.feature_lists.feature_list['audio_embedding'].feature)):\n",
    "        placeholder_array = np.vstack((placeholder_array, np.array(list(sample.feature_lists.feature_list['audio_embedding'].feature[i].bytes_list.value[0]))))\n",
    "\n",
    "features = np.delete(placeholder_array, 0, 0).astype(float)\n",
    "print(len(features))\n",
    "features"
   ]
  },
  {
   "cell_type": "markdown",
   "id": "b3a1246f",
   "metadata": {},
   "source": [
    "Load the trained model and use it to predict the presence of speech in the sample"
   ]
  },
  {
   "cell_type": "code",
   "execution_count": 3,
   "id": "23e306f4",
   "metadata": {},
   "outputs": [
    {
     "name": "stdout",
     "output_type": "stream",
     "text": [
      "Loaded model from disk\n"
     ]
    },
    {
     "data": {
      "text/plain": [
       "array([[0.],\n",
       "       [0.],\n",
       "       [0.],\n",
       "       [0.],\n",
       "       [1.],\n",
       "       [1.],\n",
       "       [1.],\n",
       "       [1.],\n",
       "       [1.],\n",
       "       [1.],\n",
       "       [1.],\n",
       "       [1.],\n",
       "       [1.],\n",
       "       [1.],\n",
       "       [1.],\n",
       "       [1.]], dtype=float32)"
      ]
     },
     "execution_count": 3,
     "metadata": {},
     "output_type": "execute_result"
    }
   ],
   "source": [
    "json_file = open('../models/model.json', 'r')\n",
    "loaded_model_json = json_file.read()\n",
    "json_file.close()\n",
    "model = model_from_json(loaded_model_json)\n",
    "# load weights into new model\n",
    "model.load_weights('../models/model.h5')\n",
    "model.compile(loss = 'binary_crossentropy', optimizer = 'adam', metrics = ['accuracy'])\n",
    "print(\"Loaded model from disk\")\n",
    "\n",
    "predictions = np.round(model.predict(features))\n",
    "predictions"
   ]
  },
  {
   "cell_type": "markdown",
   "id": "3947211f",
   "metadata": {},
   "source": [
    "Finally, make the 1D heatmap visualizing the predictions"
   ]
  },
  {
   "cell_type": "code",
   "execution_count": 8,
   "id": "dac57ae4",
   "metadata": {},
   "outputs": [
    {
     "data": {
      "text/plain": [
       "(0.0, 16.0)"
      ]
     },
     "execution_count": 8,
     "metadata": {},
     "output_type": "execute_result"
    },
    {
     "data": {
      "image/png": "[encoded data removed]",
      "text/plain": [
       "<Figure size 360x72 with 1 Axes>"
      ]
     },
     "metadata": {
      "needs_background": "light"
     },
     "output_type": "display_data"
    }
   ],
   "source": [
    "plt.rcParams['figure.figsize']= 5,1\n",
    "\n",
    "x = np.arange(0,len(features))\n",
    "y = predictions\n",
    "\n",
    "fig, (ax) = plt.subplots(nrows=1)\n",
    "extent = [0, len(features), 0., 1.]\n",
    "ax.imshow(y[np.newaxis,:], cmap='plasma', aspect='auto', extent=extent)\n",
    "ax.set_yticks([])\n",
    "ax.set_xlim(extent[0], extent[1])"
   ]
  },
  {
   "cell_type": "code",
   "execution_count": null,
   "id": "a23c2510",
   "metadata": {},
   "outputs": [],
   "source": []
  }
 ],
 "metadata": {
  "kernelspec": {
   "display_name": "Python 3",
   "language": "python",
   "name": "python3"
  },
  "language_info": {
   "codemirror_mode": {
    "name": "ipython",
    "version": 3
   },
   "file_extension": ".py",
   "mimetype": "text/x-python",
   "name": "python",
   "nbconvert_exporter": "python",
   "pygments_lexer": "ipython3",
   "version": "3.6.13"
  }
 },
 "nbformat": 4,
 "nbformat_minor": 5
}
